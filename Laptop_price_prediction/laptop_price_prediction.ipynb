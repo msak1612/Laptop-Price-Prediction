{
 "cells": [
  {
   "cell_type": "markdown",
   "id": "6ffe2ce1",
   "metadata": {},
   "source": [
    "Laptop Price Prediction"
   ]
  },
  {
   "cell_type": "code",
   "execution_count": 1,
   "id": "cabf1867",
   "metadata": {},
   "outputs": [],
   "source": [
    "import numpy as np\n",
    "import pandas as pd\n",
    "import matplotlib.pyplot as plt"
   ]
  },
  {
   "cell_type": "code",
   "execution_count": 3,
   "id": "2905f945",
   "metadata": {},
   "outputs": [],
   "source": [
    "#1. Collecting Data\n",
    "full_data = pd.read_csv(\"./Data/laptop_price.csv\", encoding='ISO-8859-1')"
   ]
  },
  {
   "cell_type": "code",
   "execution_count": 4,
   "id": "52e033bf",
   "metadata": {},
   "outputs": [
    {
     "data": {
      "text/html": [
       "<div>\n",
       "<style scoped>\n",
       "    .dataframe tbody tr th:only-of-type {\n",
       "        vertical-align: middle;\n",
       "    }\n",
       "\n",
       "    .dataframe tbody tr th {\n",
       "        vertical-align: top;\n",
       "    }\n",
       "\n",
       "    .dataframe thead th {\n",
       "        text-align: right;\n",
       "    }\n",
       "</style>\n",
       "<table border=\"1\" class=\"dataframe\">\n",
       "  <thead>\n",
       "    <tr style=\"text-align: right;\">\n",
       "      <th></th>\n",
       "      <th>laptop_ID</th>\n",
       "      <th>Company</th>\n",
       "      <th>Product</th>\n",
       "      <th>TypeName</th>\n",
       "      <th>Inches</th>\n",
       "      <th>ScreenResolution</th>\n",
       "      <th>Cpu</th>\n",
       "      <th>Ram</th>\n",
       "      <th>Memory</th>\n",
       "      <th>Gpu</th>\n",
       "      <th>OpSys</th>\n",
       "      <th>Weight</th>\n",
       "      <th>Price_euros</th>\n",
       "    </tr>\n",
       "  </thead>\n",
       "  <tbody>\n",
       "    <tr>\n",
       "      <th>0</th>\n",
       "      <td>1</td>\n",
       "      <td>Apple</td>\n",
       "      <td>MacBook Pro</td>\n",
       "      <td>Ultrabook</td>\n",
       "      <td>13.3</td>\n",
       "      <td>IPS Panel Retina Display 2560x1600</td>\n",
       "      <td>Intel Core i5 2.3GHz</td>\n",
       "      <td>8GB</td>\n",
       "      <td>128GB SSD</td>\n",
       "      <td>Intel Iris Plus Graphics 640</td>\n",
       "      <td>macOS</td>\n",
       "      <td>1.37kg</td>\n",
       "      <td>1339.69</td>\n",
       "    </tr>\n",
       "    <tr>\n",
       "      <th>1</th>\n",
       "      <td>2</td>\n",
       "      <td>Apple</td>\n",
       "      <td>Macbook Air</td>\n",
       "      <td>Ultrabook</td>\n",
       "      <td>13.3</td>\n",
       "      <td>1440x900</td>\n",
       "      <td>Intel Core i5 1.8GHz</td>\n",
       "      <td>8GB</td>\n",
       "      <td>128GB Flash Storage</td>\n",
       "      <td>Intel HD Graphics 6000</td>\n",
       "      <td>macOS</td>\n",
       "      <td>1.34kg</td>\n",
       "      <td>898.94</td>\n",
       "    </tr>\n",
       "    <tr>\n",
       "      <th>2</th>\n",
       "      <td>3</td>\n",
       "      <td>HP</td>\n",
       "      <td>250 G6</td>\n",
       "      <td>Notebook</td>\n",
       "      <td>15.6</td>\n",
       "      <td>Full HD 1920x1080</td>\n",
       "      <td>Intel Core i5 7200U 2.5GHz</td>\n",
       "      <td>8GB</td>\n",
       "      <td>256GB SSD</td>\n",
       "      <td>Intel HD Graphics 620</td>\n",
       "      <td>No OS</td>\n",
       "      <td>1.86kg</td>\n",
       "      <td>575.00</td>\n",
       "    </tr>\n",
       "    <tr>\n",
       "      <th>3</th>\n",
       "      <td>4</td>\n",
       "      <td>Apple</td>\n",
       "      <td>MacBook Pro</td>\n",
       "      <td>Ultrabook</td>\n",
       "      <td>15.4</td>\n",
       "      <td>IPS Panel Retina Display 2880x1800</td>\n",
       "      <td>Intel Core i7 2.7GHz</td>\n",
       "      <td>16GB</td>\n",
       "      <td>512GB SSD</td>\n",
       "      <td>AMD Radeon Pro 455</td>\n",
       "      <td>macOS</td>\n",
       "      <td>1.83kg</td>\n",
       "      <td>2537.45</td>\n",
       "    </tr>\n",
       "    <tr>\n",
       "      <th>4</th>\n",
       "      <td>5</td>\n",
       "      <td>Apple</td>\n",
       "      <td>MacBook Pro</td>\n",
       "      <td>Ultrabook</td>\n",
       "      <td>13.3</td>\n",
       "      <td>IPS Panel Retina Display 2560x1600</td>\n",
       "      <td>Intel Core i5 3.1GHz</td>\n",
       "      <td>8GB</td>\n",
       "      <td>256GB SSD</td>\n",
       "      <td>Intel Iris Plus Graphics 650</td>\n",
       "      <td>macOS</td>\n",
       "      <td>1.37kg</td>\n",
       "      <td>1803.60</td>\n",
       "    </tr>\n",
       "  </tbody>\n",
       "</table>\n",
       "</div>"
      ],
      "text/plain": [
       "   laptop_ID Company      Product   TypeName  Inches  \\\n",
       "0          1   Apple  MacBook Pro  Ultrabook    13.3   \n",
       "1          2   Apple  Macbook Air  Ultrabook    13.3   \n",
       "2          3      HP       250 G6   Notebook    15.6   \n",
       "3          4   Apple  MacBook Pro  Ultrabook    15.4   \n",
       "4          5   Apple  MacBook Pro  Ultrabook    13.3   \n",
       "\n",
       "                     ScreenResolution                         Cpu   Ram  \\\n",
       "0  IPS Panel Retina Display 2560x1600        Intel Core i5 2.3GHz   8GB   \n",
       "1                            1440x900        Intel Core i5 1.8GHz   8GB   \n",
       "2                   Full HD 1920x1080  Intel Core i5 7200U 2.5GHz   8GB   \n",
       "3  IPS Panel Retina Display 2880x1800        Intel Core i7 2.7GHz  16GB   \n",
       "4  IPS Panel Retina Display 2560x1600        Intel Core i5 3.1GHz   8GB   \n",
       "\n",
       "                Memory                           Gpu  OpSys  Weight  \\\n",
       "0            128GB SSD  Intel Iris Plus Graphics 640  macOS  1.37kg   \n",
       "1  128GB Flash Storage        Intel HD Graphics 6000  macOS  1.34kg   \n",
       "2            256GB SSD         Intel HD Graphics 620  No OS  1.86kg   \n",
       "3            512GB SSD            AMD Radeon Pro 455  macOS  1.83kg   \n",
       "4            256GB SSD  Intel Iris Plus Graphics 650  macOS  1.37kg   \n",
       "\n",
       "   Price_euros  \n",
       "0      1339.69  \n",
       "1       898.94  \n",
       "2       575.00  \n",
       "3      2537.45  \n",
       "4      1803.60  "
      ]
     },
     "execution_count": 4,
     "metadata": {},
     "output_type": "execute_result"
    }
   ],
   "source": [
    "full_data.head()"
   ]
  },
  {
   "cell_type": "code",
   "execution_count": 5,
   "id": "564de3ad",
   "metadata": {},
   "outputs": [
    {
     "data": {
      "text/plain": [
       "(1303, 13)"
      ]
     },
     "execution_count": 5,
     "metadata": {},
     "output_type": "execute_result"
    }
   ],
   "source": [
    "full_data.shape\n"
   ]
  },
  {
   "cell_type": "code",
   "execution_count": 6,
   "id": "15f11a22",
   "metadata": {},
   "outputs": [
    {
     "data": {
      "text/plain": [
       "laptop_ID           False\n",
       "Company             False\n",
       "Product             False\n",
       "TypeName            False\n",
       "Inches              False\n",
       "ScreenResolution    False\n",
       "Cpu                 False\n",
       "Ram                 False\n",
       "Memory              False\n",
       "Gpu                 False\n",
       "OpSys               False\n",
       "Weight              False\n",
       "Price_euros         False\n",
       "dtype: bool"
      ]
     },
     "execution_count": 6,
     "metadata": {},
     "output_type": "execute_result"
    }
   ],
   "source": [
    "#2. Cleaning Data - checking for null values\n",
    "full_data.isnull().any()"
   ]
  },
  {
   "cell_type": "code",
   "execution_count": 7,
   "id": "0a1b6e9a",
   "metadata": {},
   "outputs": [
    {
     "name": "stdout",
     "output_type": "stream",
     "text": [
      "There are 1303 rows and 13 columns with no null values.\n"
     ]
    }
   ],
   "source": [
    "print(f'There are {full_data.shape[0]} rows and {full_data.shape[1]} columns with no null values.')"
   ]
  },
  {
   "cell_type": "code",
   "execution_count": 8,
   "id": "c1cf36ee",
   "metadata": {},
   "outputs": [
    {
     "name": "stdout",
     "output_type": "stream",
     "text": [
      "Requirement already satisfied: fast_ml in /Users/madhuri/opt/anaconda3/lib/python3.9/site-packages (3.68)\r\n"
     ]
    }
   ],
   "source": [
    "#  2.1 Train-test-validation split\n",
    "!pip install fast_ml --upgrade\n",
    "from fast_ml.model_development  import train_valid_test_split"
   ]
  },
  {
   "cell_type": "code",
   "execution_count": 12,
   "id": "48f24b42",
   "metadata": {
    "scrolled": true
   },
   "outputs": [
    {
     "name": "stdout",
     "output_type": "stream",
     "text": [
      "(1042, 12)\n",
      "(1042,)\n",
      "(130, 12)\n",
      "(130,)\n",
      "(131, 12)\n",
      "(131,)\n"
     ]
    },
    {
     "data": {
      "text/plain": [
       "(None, None)"
      ]
     },
     "execution_count": 12,
     "metadata": {},
     "output_type": "execute_result"
    }
   ],
   "source": [
    "x_train, y_train, x_valid, y_valid, x_test, y_test = train_valid_test_split(full_data, \n",
    "                                target = 'Price_euros', train_size=0.80, valid_size=0.1, test_size=0.1)\n",
    "\n",
    "print(x_train.shape), print(y_train.shape)\n",
    "print(x_valid.shape), print(y_valid.shape)\n",
    "print(x_test.shape), print(y_test.shape)"
   ]
  },
  {
   "cell_type": "code",
   "execution_count": 46,
   "id": "df2813c4",
   "metadata": {},
   "outputs": [],
   "source": [
    "# putting x & y back together for plotting\n",
    "train_data = pd.concat([x_train, y_train], axis=1)"
   ]
  },
  {
   "cell_type": "code",
   "execution_count": 47,
   "id": "c07c4661",
   "metadata": {},
   "outputs": [
    {
     "data": {
      "text/html": [
       "<div>\n",
       "<style scoped>\n",
       "    .dataframe tbody tr th:only-of-type {\n",
       "        vertical-align: middle;\n",
       "    }\n",
       "\n",
       "    .dataframe tbody tr th {\n",
       "        vertical-align: top;\n",
       "    }\n",
       "\n",
       "    .dataframe thead th {\n",
       "        text-align: right;\n",
       "    }\n",
       "</style>\n",
       "<table border=\"1\" class=\"dataframe\">\n",
       "  <thead>\n",
       "    <tr style=\"text-align: right;\">\n",
       "      <th></th>\n",
       "      <th>laptop_ID</th>\n",
       "      <th>Company</th>\n",
       "      <th>Product</th>\n",
       "      <th>TypeName</th>\n",
       "      <th>Inches</th>\n",
       "      <th>ScreenResolution</th>\n",
       "      <th>Cpu</th>\n",
       "      <th>Ram</th>\n",
       "      <th>Memory</th>\n",
       "      <th>Gpu</th>\n",
       "      <th>OpSys</th>\n",
       "      <th>Weight</th>\n",
       "      <th>Price_euros</th>\n",
       "    </tr>\n",
       "  </thead>\n",
       "  <tbody>\n",
       "    <tr>\n",
       "      <th>679</th>\n",
       "      <td>687</td>\n",
       "      <td>Acer</td>\n",
       "      <td>Aspire VX5-591G</td>\n",
       "      <td>Gaming</td>\n",
       "      <td>15.6</td>\n",
       "      <td>Full HD 1920x1080</td>\n",
       "      <td>Intel Core i5 7300HQ 2.5GHz</td>\n",
       "      <td>16GB</td>\n",
       "      <td>256GB SSD</td>\n",
       "      <td>Nvidia GeForce GTX 1050 Ti</td>\n",
       "      <td>Windows 10</td>\n",
       "      <td>2.5kg</td>\n",
       "      <td>1299.00</td>\n",
       "    </tr>\n",
       "    <tr>\n",
       "      <th>946</th>\n",
       "      <td>960</td>\n",
       "      <td>Dell</td>\n",
       "      <td>Latitude 7280</td>\n",
       "      <td>Ultrabook</td>\n",
       "      <td>12.5</td>\n",
       "      <td>Full HD / Touchscreen 1920x1080</td>\n",
       "      <td>Intel Core i5 7200U 2.5GHz</td>\n",
       "      <td>8GB</td>\n",
       "      <td>256GB SSD</td>\n",
       "      <td>Intel HD Graphics</td>\n",
       "      <td>Windows 10</td>\n",
       "      <td>1.36kg</td>\n",
       "      <td>1472.20</td>\n",
       "    </tr>\n",
       "    <tr>\n",
       "      <th>91</th>\n",
       "      <td>93</td>\n",
       "      <td>Acer</td>\n",
       "      <td>Aspire 5</td>\n",
       "      <td>Notebook</td>\n",
       "      <td>15.6</td>\n",
       "      <td>Full HD 1920x1080</td>\n",
       "      <td>Intel Core i7 8550U 1.8GHz</td>\n",
       "      <td>8GB</td>\n",
       "      <td>1TB HDD</td>\n",
       "      <td>Nvidia GeForce MX150</td>\n",
       "      <td>Windows 10</td>\n",
       "      <td>2.2kg</td>\n",
       "      <td>689.00</td>\n",
       "    </tr>\n",
       "    <tr>\n",
       "      <th>1094</th>\n",
       "      <td>1109</td>\n",
       "      <td>HP</td>\n",
       "      <td>Elitebook 820</td>\n",
       "      <td>Netbook</td>\n",
       "      <td>12.5</td>\n",
       "      <td>1366x768</td>\n",
       "      <td>Intel Core i5 6200U 2.3GHz</td>\n",
       "      <td>4GB</td>\n",
       "      <td>128GB SSD</td>\n",
       "      <td>Intel HD Graphics 520</td>\n",
       "      <td>Windows 7</td>\n",
       "      <td>2.4kg</td>\n",
       "      <td>1599.00</td>\n",
       "    </tr>\n",
       "    <tr>\n",
       "      <th>1034</th>\n",
       "      <td>1048</td>\n",
       "      <td>HP</td>\n",
       "      <td>EliteBook 850</td>\n",
       "      <td>Notebook</td>\n",
       "      <td>15.6</td>\n",
       "      <td>Full HD 1920x1080</td>\n",
       "      <td>Intel Core i7 6500U 2.5GHz</td>\n",
       "      <td>8GB</td>\n",
       "      <td>256GB SSD</td>\n",
       "      <td>Intel HD Graphics 520</td>\n",
       "      <td>Windows 10</td>\n",
       "      <td>1.84kg</td>\n",
       "      <td>1228.99</td>\n",
       "    </tr>\n",
       "  </tbody>\n",
       "</table>\n",
       "</div>"
      ],
      "text/plain": [
       "      laptop_ID Company          Product   TypeName  Inches  \\\n",
       "679         687    Acer  Aspire VX5-591G     Gaming    15.6   \n",
       "946         960    Dell    Latitude 7280  Ultrabook    12.5   \n",
       "91           93    Acer         Aspire 5   Notebook    15.6   \n",
       "1094       1109      HP    Elitebook 820    Netbook    12.5   \n",
       "1034       1048      HP    EliteBook 850   Notebook    15.6   \n",
       "\n",
       "                     ScreenResolution                          Cpu   Ram  \\\n",
       "679                 Full HD 1920x1080  Intel Core i5 7300HQ 2.5GHz  16GB   \n",
       "946   Full HD / Touchscreen 1920x1080   Intel Core i5 7200U 2.5GHz   8GB   \n",
       "91                  Full HD 1920x1080   Intel Core i7 8550U 1.8GHz   8GB   \n",
       "1094                         1366x768   Intel Core i5 6200U 2.3GHz   4GB   \n",
       "1034                Full HD 1920x1080   Intel Core i7 6500U 2.5GHz   8GB   \n",
       "\n",
       "         Memory                         Gpu       OpSys  Weight  Price_euros  \n",
       "679   256GB SSD  Nvidia GeForce GTX 1050 Ti  Windows 10   2.5kg      1299.00  \n",
       "946   256GB SSD           Intel HD Graphics  Windows 10  1.36kg      1472.20  \n",
       "91      1TB HDD        Nvidia GeForce MX150  Windows 10   2.2kg       689.00  \n",
       "1094  128GB SSD       Intel HD Graphics 520   Windows 7   2.4kg      1599.00  \n",
       "1034  256GB SSD       Intel HD Graphics 520  Windows 10  1.84kg      1228.99  "
      ]
     },
     "execution_count": 47,
     "metadata": {},
     "output_type": "execute_result"
    }
   ],
   "source": [
    "train_data.head()"
   ]
  },
  {
   "cell_type": "code",
   "execution_count": 15,
   "id": "e09c6494",
   "metadata": {},
   "outputs": [],
   "source": [
    "#2.2 Visualizations"
   ]
  },
  {
   "cell_type": "code",
   "execution_count": 16,
   "id": "124c7f88",
   "metadata": {},
   "outputs": [
    {
     "data": {
      "text/plain": [
       "(1042, 13)"
      ]
     },
     "execution_count": 16,
     "metadata": {},
     "output_type": "execute_result"
    }
   ],
   "source": [
    "train_data.shape"
   ]
  },
  {
   "cell_type": "code",
   "execution_count": 23,
   "id": "9f004fd8",
   "metadata": {},
   "outputs": [
    {
     "data": {
      "text/plain": [
       "Index(['laptop_ID', 'Company', 'Product', 'TypeName', 'Inches',\n",
       "       'ScreenResolution', 'Cpu', 'Ram', 'Memory', 'Gpu', 'OpSys', 'Weight',\n",
       "       'Price_euros'],\n",
       "      dtype='object')"
      ]
     },
     "execution_count": 23,
     "metadata": {},
     "output_type": "execute_result"
    }
   ],
   "source": [
    "train_data.columns\n"
   ]
  },
  {
   "cell_type": "code",
   "execution_count": 17,
   "id": "48cd081e",
   "metadata": {},
   "outputs": [
    {
     "data": {
      "text/plain": [
       "19"
      ]
     },
     "execution_count": 17,
     "metadata": {},
     "output_type": "execute_result"
    }
   ],
   "source": [
    "train_data.loc[:, 'Company'].nunique()"
   ]
  },
  {
   "cell_type": "code",
   "execution_count": 18,
   "id": "979da314",
   "metadata": {},
   "outputs": [
    {
     "data": {
      "text/plain": [
       "6"
      ]
     },
     "execution_count": 18,
     "metadata": {},
     "output_type": "execute_result"
    }
   ],
   "source": [
    "train_data.loc[:, 'TypeName'].nunique()"
   ]
  },
  {
   "cell_type": "code",
   "execution_count": 19,
   "id": "113d1431",
   "metadata": {},
   "outputs": [
    {
     "data": {
      "text/plain": [
       "106"
      ]
     },
     "execution_count": 19,
     "metadata": {},
     "output_type": "execute_result"
    }
   ],
   "source": [
    "train_data.loc[:, 'Cpu'].nunique()"
   ]
  },
  {
   "cell_type": "code",
   "execution_count": 20,
   "id": "63817c52",
   "metadata": {},
   "outputs": [
    {
     "data": {
      "text/plain": [
       "9"
      ]
     },
     "execution_count": 20,
     "metadata": {},
     "output_type": "execute_result"
    }
   ],
   "source": [
    "train_data.loc[:, 'Ram'].nunique()"
   ]
  },
  {
   "cell_type": "code",
   "execution_count": 21,
   "id": "1831fd4b",
   "metadata": {},
   "outputs": [
    {
     "data": {
      "text/plain": [
       "38"
      ]
     },
     "execution_count": 21,
     "metadata": {},
     "output_type": "execute_result"
    }
   ],
   "source": [
    "train_data.loc[:, 'Memory'].nunique()"
   ]
  },
  {
   "cell_type": "code",
   "execution_count": 22,
   "id": "dac21979",
   "metadata": {},
   "outputs": [
    {
     "data": {
      "text/plain": [
       "103"
      ]
     },
     "execution_count": 22,
     "metadata": {},
     "output_type": "execute_result"
    }
   ],
   "source": [
    "train_data.loc[:, 'Gpu'].nunique()"
   ]
  },
  {
   "cell_type": "code",
   "execution_count": 24,
   "id": "47fe8495",
   "metadata": {},
   "outputs": [],
   "source": [
    "avg_price_by_company = full_data.groupby(\"Company\").mean()['Price_euros'].sort_values(ascending=False)\n",
    "avg_price_by_type = full_data.groupby(\"TypeName\").mean()['Price_euros'].sort_values(ascending=False)\n",
    "avg_price_by_ram = full_data.groupby(\"Ram\").mean()['Price_euros'].sort_values(ascending=False)\n",
    "avg_price_by_cpu = full_data.groupby(\"Cpu\").mean()['Price_euros'].sort_values(ascending=False)\n",
    "avg_price_by_memory = full_data.groupby(\"Memory\").mean()['Price_euros'].sort_values(ascending=False)"
   ]
  },
  {
   "cell_type": "code",
   "execution_count": 25,
   "id": "7a27ac5d",
   "metadata": {},
   "outputs": [
    {
     "data": {
      "text/plain": [
       "count      19.0\n",
       "mean     1258.0\n",
       "std       724.0\n",
       "min       217.0\n",
       "25%       898.0\n",
       "50%      1186.0\n",
       "75%      1588.0\n",
       "max      3346.0\n",
       "Name: Price_euros, dtype: float64"
      ]
     },
     "execution_count": 25,
     "metadata": {},
     "output_type": "execute_result"
    }
   ],
   "source": [
    "avg_price_by_company.describe().round()"
   ]
  },
  {
   "cell_type": "code",
   "execution_count": 26,
   "id": "fed084b2",
   "metadata": {},
   "outputs": [
    {
     "data": {
      "text/plain": [
       "count       6.0\n",
       "mean     1377.0\n",
       "std       614.0\n",
       "min       636.0\n",
       "25%       907.0\n",
       "50%      1415.0\n",
       "75%      1686.0\n",
       "max      2280.0\n",
       "Name: Price_euros, dtype: float64"
      ]
     },
     "execution_count": 26,
     "metadata": {},
     "output_type": "execute_result"
    }
   ],
   "source": [
    "avg_price_by_type.describe().round()"
   ]
  },
  {
   "cell_type": "code",
   "execution_count": 27,
   "id": "c923091d",
   "metadata": {},
   "outputs": [
    {
     "data": {
      "text/plain": [
       "count       9.0\n",
       "mean     1711.0\n",
       "std      1296.0\n",
       "min       254.0\n",
       "25%       615.0\n",
       "50%      1239.0\n",
       "75%      2206.0\n",
       "max      3975.0\n",
       "Name: Price_euros, dtype: float64"
      ]
     },
     "execution_count": 27,
     "metadata": {},
     "output_type": "execute_result"
    }
   ],
   "source": [
    "avg_price_by_ram.describe().round()"
   ]
  },
  {
   "cell_type": "code",
   "execution_count": 28,
   "id": "a7282dca",
   "metadata": {},
   "outputs": [
    {
     "data": {
      "text/plain": [
       "count     118.0\n",
       "mean     1107.0\n",
       "std       865.0\n",
       "min       199.0\n",
       "25%       434.0\n",
       "50%       931.0\n",
       "75%      1503.0\n",
       "max      4899.0\n",
       "Name: Price_euros, dtype: float64"
      ]
     },
     "execution_count": 28,
     "metadata": {},
     "output_type": "execute_result"
    }
   ],
   "source": [
    "avg_price_by_cpu.describe().round()"
   ]
  },
  {
   "cell_type": "code",
   "execution_count": 29,
   "id": "560c3d69",
   "metadata": {},
   "outputs": [
    {
     "data": {
      "text/plain": [
       "count      39.0\n",
       "mean     1332.0\n",
       "std       924.0\n",
       "min       224.0\n",
       "25%       638.0\n",
       "50%      1222.0\n",
       "75%      1853.0\n",
       "max      3624.0\n",
       "Name: Price_euros, dtype: float64"
      ]
     },
     "execution_count": 29,
     "metadata": {},
     "output_type": "execute_result"
    }
   ],
   "source": [
    "avg_price_by_memory.describe().round()"
   ]
  },
  {
   "cell_type": "code",
   "execution_count": 32,
   "id": "33a89a4f",
   "metadata": {},
   "outputs": [
    {
     "data": {
      "image/png": "[encoded data removed]",
      "text/plain": [
       "<Figure size 936x504 with 1 Axes>"
      ]
     },
     "metadata": {
      "needs_background": "light"
     },
     "output_type": "display_data"
    }
   ],
   "source": [
    "import matplotlib.pyplot as plt\n",
    "\n",
    "fig, ax = plt.subplots(nrows=1, figsize=(13,7))\n",
    "\n",
    "avg_price_by_company.plot(ax=ax, kind='bar', color='teal')\n",
    "ax.set_title('Avg Price by Company/Brand')\n",
    "\n",
    "fig;"
   ]
  },
  {
   "cell_type": "code",
   "execution_count": 34,
   "id": "274d593c",
   "metadata": {},
   "outputs": [
    {
     "data": {
      "image/png": "[encoded data removed]",
      "text/plain": [
       "<Figure size 936x504 with 1 Axes>"
      ]
     },
     "metadata": {
      "needs_background": "light"
     },
     "output_type": "display_data"
    }
   ],
   "source": [
    "fig, ax = plt.subplots(nrows=1, figsize=(13,7))\n",
    "\n",
    "avg_price_by_cpu.plot(ax=ax, kind='bar', color='teal')\n",
    "ax.set_title('Avg Price by CPU')\n",
    "ax.xlimit=[0, 50]\n",
    "\n",
    "fig;"
   ]
  },
  {
   "cell_type": "code",
   "execution_count": 107,
   "id": "0f85ae39",
   "metadata": {},
   "outputs": [
    {
     "data": {
      "image/png": "[encoded data removed]",
      "text/plain": [
       "<Figure size 936x504 with 1 Axes>"
      ]
     },
     "metadata": {
      "needs_background": "light"
     },
     "output_type": "display_data"
    }
   ],
   "source": [
    "fig, ax = plt.subplots(nrows=1, figsize=(13,7))\n",
    "\n",
    "avg_price_by_memory.plot(ax=ax, kind='bar', color='teal')\n",
    "ax.set_title('Avg Price by Memory')\n",
    "\n",
    "fig;"
   ]
  },
  {
   "cell_type": "code",
   "execution_count": 108,
   "id": "caf72915",
   "metadata": {},
   "outputs": [
    {
     "data": {
      "text/html": [
       "<div>\n",
       "<style scoped>\n",
       "    .dataframe tbody tr th:only-of-type {\n",
       "        vertical-align: middle;\n",
       "    }\n",
       "\n",
       "    .dataframe tbody tr th {\n",
       "        vertical-align: top;\n",
       "    }\n",
       "\n",
       "    .dataframe thead th {\n",
       "        text-align: right;\n",
       "    }\n",
       "</style>\n",
       "<table border=\"1\" class=\"dataframe\">\n",
       "  <thead>\n",
       "    <tr style=\"text-align: right;\">\n",
       "      <th></th>\n",
       "      <th>laptop_ID</th>\n",
       "      <th>Company</th>\n",
       "      <th>Product</th>\n",
       "      <th>TypeName</th>\n",
       "      <th>Inches</th>\n",
       "      <th>ScreenResolution</th>\n",
       "      <th>Cpu</th>\n",
       "      <th>Ram</th>\n",
       "      <th>Memory</th>\n",
       "      <th>Gpu</th>\n",
       "      <th>OpSys</th>\n",
       "      <th>Weight</th>\n",
       "      <th>Price_euros</th>\n",
       "    </tr>\n",
       "  </thead>\n",
       "  <tbody>\n",
       "    <tr>\n",
       "      <th>331</th>\n",
       "      <td>337</td>\n",
       "      <td>Toshiba</td>\n",
       "      <td>Satellite Pro</td>\n",
       "      <td>Notebook</td>\n",
       "      <td>15.6</td>\n",
       "      <td>IPS Panel Full HD 1920x1080</td>\n",
       "      <td>Intel Core i5 7200U 2.5GHz</td>\n",
       "      <td>8GB</td>\n",
       "      <td>256GB SSD</td>\n",
       "      <td>Intel HD Graphics 620</td>\n",
       "      <td>Windows 10</td>\n",
       "      <td>2.0kg</td>\n",
       "      <td>943.00</td>\n",
       "    </tr>\n",
       "    <tr>\n",
       "      <th>167</th>\n",
       "      <td>171</td>\n",
       "      <td>Dell</td>\n",
       "      <td>Inspiron 5577</td>\n",
       "      <td>Gaming</td>\n",
       "      <td>15.6</td>\n",
       "      <td>Full HD 1920x1080</td>\n",
       "      <td>Intel Core i7 7700HQ 2.8GHz</td>\n",
       "      <td>8GB</td>\n",
       "      <td>128GB SSD +  1TB HDD</td>\n",
       "      <td>Nvidia GeForce GTX 1050</td>\n",
       "      <td>Windows 10</td>\n",
       "      <td>2.56kg</td>\n",
       "      <td>1060.49</td>\n",
       "    </tr>\n",
       "    <tr>\n",
       "      <th>749</th>\n",
       "      <td>758</td>\n",
       "      <td>HP</td>\n",
       "      <td>Zbook 17</td>\n",
       "      <td>Workstation</td>\n",
       "      <td>17.3</td>\n",
       "      <td>IPS Panel Full HD 1920x1080</td>\n",
       "      <td>Intel Xeon E3-1535M v5 2.9GHz</td>\n",
       "      <td>16GB</td>\n",
       "      <td>256GB SSD</td>\n",
       "      <td>Nvidia Quadro M2000M</td>\n",
       "      <td>Windows 7</td>\n",
       "      <td>3kg</td>\n",
       "      <td>4389.00</td>\n",
       "    </tr>\n",
       "    <tr>\n",
       "      <th>602</th>\n",
       "      <td>609</td>\n",
       "      <td>Acer</td>\n",
       "      <td>Aspire 1</td>\n",
       "      <td>Notebook</td>\n",
       "      <td>14.0</td>\n",
       "      <td>Full HD 1920x1080</td>\n",
       "      <td>Intel Celeron Quad Core N3450 1.1GHz</td>\n",
       "      <td>4GB</td>\n",
       "      <td>32GB Flash Storage</td>\n",
       "      <td>Intel HD Graphics 500</td>\n",
       "      <td>Windows 10</td>\n",
       "      <td>1.6kg</td>\n",
       "      <td>329.00</td>\n",
       "    </tr>\n",
       "    <tr>\n",
       "      <th>6</th>\n",
       "      <td>7</td>\n",
       "      <td>Apple</td>\n",
       "      <td>MacBook Pro</td>\n",
       "      <td>Ultrabook</td>\n",
       "      <td>15.4</td>\n",
       "      <td>IPS Panel Retina Display 2880x1800</td>\n",
       "      <td>Intel Core i7 2.2GHz</td>\n",
       "      <td>16GB</td>\n",
       "      <td>256GB Flash Storage</td>\n",
       "      <td>Intel Iris Pro Graphics</td>\n",
       "      <td>Mac OS X</td>\n",
       "      <td>2.04kg</td>\n",
       "      <td>2139.97</td>\n",
       "    </tr>\n",
       "  </tbody>\n",
       "</table>\n",
       "</div>"
      ],
      "text/plain": [
       "     laptop_ID  Company        Product     TypeName  Inches  \\\n",
       "331        337  Toshiba  Satellite Pro     Notebook    15.6   \n",
       "167        171     Dell  Inspiron 5577       Gaming    15.6   \n",
       "749        758       HP       Zbook 17  Workstation    17.3   \n",
       "602        609     Acer       Aspire 1     Notebook    14.0   \n",
       "6            7    Apple    MacBook Pro    Ultrabook    15.4   \n",
       "\n",
       "                       ScreenResolution                                   Cpu  \\\n",
       "331         IPS Panel Full HD 1920x1080            Intel Core i5 7200U 2.5GHz   \n",
       "167                   Full HD 1920x1080           Intel Core i7 7700HQ 2.8GHz   \n",
       "749         IPS Panel Full HD 1920x1080         Intel Xeon E3-1535M v5 2.9GHz   \n",
       "602                   Full HD 1920x1080  Intel Celeron Quad Core N3450 1.1GHz   \n",
       "6    IPS Panel Retina Display 2880x1800                  Intel Core i7 2.2GHz   \n",
       "\n",
       "      Ram                Memory                      Gpu       OpSys  Weight  \\\n",
       "331   8GB             256GB SSD    Intel HD Graphics 620  Windows 10   2.0kg   \n",
       "167   8GB  128GB SSD +  1TB HDD  Nvidia GeForce GTX 1050  Windows 10  2.56kg   \n",
       "749  16GB             256GB SSD     Nvidia Quadro M2000M   Windows 7     3kg   \n",
       "602   4GB    32GB Flash Storage    Intel HD Graphics 500  Windows 10   1.6kg   \n",
       "6    16GB   256GB Flash Storage  Intel Iris Pro Graphics    Mac OS X  2.04kg   \n",
       "\n",
       "     Price_euros  \n",
       "331       943.00  \n",
       "167      1060.49  \n",
       "749      4389.00  \n",
       "602       329.00  \n",
       "6        2139.97  "
      ]
     },
     "execution_count": 108,
     "metadata": {},
     "output_type": "execute_result"
    }
   ],
   "source": [
    "train_data.head()"
   ]
  },
  {
   "cell_type": "markdown",
   "id": "c29bb8e1",
   "metadata": {},
   "source": [
    "The \"Company\" column naming the brand of laptop could be interesting. Maybe there is one \"rock star\" brand which costs drastically more than the other brands. \n",
    "\n",
    "There is definitely a large spread between the brands. Some have an average price which is 15times more than the others."
   ]
  },
  {
   "cell_type": "code",
   "execution_count": 110,
   "id": "fac5a233",
   "metadata": {},
   "outputs": [
    {
     "data": {
      "text/plain": [
       "Company\n",
       "Razer        3346.0\n",
       "LG           2099.0\n",
       "MSI          1742.0\n",
       "Google       1737.0\n",
       "Microsoft    1704.0\n",
       "Samsung      1522.0\n",
       "Huawei       1424.0\n",
       "Apple        1354.0\n",
       "Toshiba      1268.0\n",
       "Dell         1201.0\n",
       "Xiaomi       1200.0\n",
       "Asus         1132.0\n",
       "Lenovo       1118.0\n",
       "HP           1093.0\n",
       "Fujitsu       694.0\n",
       "Acer          634.0\n",
       "Chuwi         314.0\n",
       "Mediacom      279.0\n",
       "Vero          217.0\n",
       "Name: Price_euros, dtype: float64"
      ]
     },
     "execution_count": 110,
     "metadata": {},
     "output_type": "execute_result"
    }
   ],
   "source": [
    "train_data.groupby(\"Company\")[\"Price_euros\"].mean().round().sort_values(ascending=False)"
   ]
  },
  {
   "cell_type": "markdown",
   "id": "ab2ec9f0",
   "metadata": {},
   "source": [
    "3. Feature Engineering"
   ]
  },
  {
   "cell_type": "code",
   "execution_count": 35,
   "id": "7a4d4df1",
   "metadata": {},
   "outputs": [
    {
     "data": {
      "text/plain": [
       "laptop_ID           False\n",
       "Company             False\n",
       "Product             False\n",
       "TypeName            False\n",
       "Inches              False\n",
       "ScreenResolution    False\n",
       "Cpu                 False\n",
       "Ram                 False\n",
       "Memory              False\n",
       "Gpu                 False\n",
       "OpSys               False\n",
       "Weight              False\n",
       "Price_euros         False\n",
       "dtype: bool"
      ]
     },
     "execution_count": 35,
     "metadata": {},
     "output_type": "execute_result"
    }
   ],
   "source": [
    "#Data encoding\n",
    "train_data.isnull().any()"
   ]
  },
  {
   "cell_type": "code",
   "execution_count": 41,
   "id": "631224df",
   "metadata": {},
   "outputs": [
    {
     "data": {
      "text/plain": [
       "528"
      ]
     },
     "execution_count": 41,
     "metadata": {},
     "output_type": "execute_result"
    }
   ],
   "source": [
    "train_data.loc[:, 'Product'].nunique()"
   ]
  },
  {
   "cell_type": "code",
   "execution_count": 42,
   "id": "611682ee",
   "metadata": {},
   "outputs": [
    {
     "data": {
      "text/html": [
       "<div>\n",
       "<style scoped>\n",
       "    .dataframe tbody tr th:only-of-type {\n",
       "        vertical-align: middle;\n",
       "    }\n",
       "\n",
       "    .dataframe tbody tr th {\n",
       "        vertical-align: top;\n",
       "    }\n",
       "\n",
       "    .dataframe thead th {\n",
       "        text-align: right;\n",
       "    }\n",
       "</style>\n",
       "<table border=\"1\" class=\"dataframe\">\n",
       "  <thead>\n",
       "    <tr style=\"text-align: right;\">\n",
       "      <th></th>\n",
       "      <th>laptop_ID</th>\n",
       "      <th>Company</th>\n",
       "      <th>Product</th>\n",
       "      <th>TypeName</th>\n",
       "      <th>Inches</th>\n",
       "      <th>ScreenResolution</th>\n",
       "      <th>Cpu</th>\n",
       "      <th>Ram</th>\n",
       "      <th>Memory</th>\n",
       "      <th>Gpu</th>\n",
       "      <th>OpSys</th>\n",
       "      <th>Weight</th>\n",
       "      <th>Price_euros</th>\n",
       "    </tr>\n",
       "  </thead>\n",
       "  <tbody>\n",
       "    <tr>\n",
       "      <th>679</th>\n",
       "      <td>687</td>\n",
       "      <td>Acer</td>\n",
       "      <td>Aspire VX5-591G</td>\n",
       "      <td>Gaming</td>\n",
       "      <td>15.6</td>\n",
       "      <td>Full HD 1920x1080</td>\n",
       "      <td>Intel Core i5 7300HQ 2.5GHz</td>\n",
       "      <td>16GB</td>\n",
       "      <td>256GB SSD</td>\n",
       "      <td>Nvidia GeForce GTX 1050 Ti</td>\n",
       "      <td>Windows 10</td>\n",
       "      <td>2.5kg</td>\n",
       "      <td>1299.00</td>\n",
       "    </tr>\n",
       "    <tr>\n",
       "      <th>946</th>\n",
       "      <td>960</td>\n",
       "      <td>Dell</td>\n",
       "      <td>Latitude 7280</td>\n",
       "      <td>Ultrabook</td>\n",
       "      <td>12.5</td>\n",
       "      <td>Full HD / Touchscreen 1920x1080</td>\n",
       "      <td>Intel Core i5 7200U 2.5GHz</td>\n",
       "      <td>8GB</td>\n",
       "      <td>256GB SSD</td>\n",
       "      <td>Intel HD Graphics</td>\n",
       "      <td>Windows 10</td>\n",
       "      <td>1.36kg</td>\n",
       "      <td>1472.20</td>\n",
       "    </tr>\n",
       "    <tr>\n",
       "      <th>91</th>\n",
       "      <td>93</td>\n",
       "      <td>Acer</td>\n",
       "      <td>Aspire 5</td>\n",
       "      <td>Notebook</td>\n",
       "      <td>15.6</td>\n",
       "      <td>Full HD 1920x1080</td>\n",
       "      <td>Intel Core i7 8550U 1.8GHz</td>\n",
       "      <td>8GB</td>\n",
       "      <td>1TB HDD</td>\n",
       "      <td>Nvidia GeForce MX150</td>\n",
       "      <td>Windows 10</td>\n",
       "      <td>2.2kg</td>\n",
       "      <td>689.00</td>\n",
       "    </tr>\n",
       "    <tr>\n",
       "      <th>1094</th>\n",
       "      <td>1109</td>\n",
       "      <td>HP</td>\n",
       "      <td>Elitebook 820</td>\n",
       "      <td>Netbook</td>\n",
       "      <td>12.5</td>\n",
       "      <td>1366x768</td>\n",
       "      <td>Intel Core i5 6200U 2.3GHz</td>\n",
       "      <td>4GB</td>\n",
       "      <td>128GB SSD</td>\n",
       "      <td>Intel HD Graphics 520</td>\n",
       "      <td>Windows 7</td>\n",
       "      <td>2.4kg</td>\n",
       "      <td>1599.00</td>\n",
       "    </tr>\n",
       "    <tr>\n",
       "      <th>1034</th>\n",
       "      <td>1048</td>\n",
       "      <td>HP</td>\n",
       "      <td>EliteBook 850</td>\n",
       "      <td>Notebook</td>\n",
       "      <td>15.6</td>\n",
       "      <td>Full HD 1920x1080</td>\n",
       "      <td>Intel Core i7 6500U 2.5GHz</td>\n",
       "      <td>8GB</td>\n",
       "      <td>256GB SSD</td>\n",
       "      <td>Intel HD Graphics 520</td>\n",
       "      <td>Windows 10</td>\n",
       "      <td>1.84kg</td>\n",
       "      <td>1228.99</td>\n",
       "    </tr>\n",
       "  </tbody>\n",
       "</table>\n",
       "</div>"
      ],
      "text/plain": [
       "      laptop_ID Company          Product   TypeName  Inches  \\\n",
       "679         687    Acer  Aspire VX5-591G     Gaming    15.6   \n",
       "946         960    Dell    Latitude 7280  Ultrabook    12.5   \n",
       "91           93    Acer         Aspire 5   Notebook    15.6   \n",
       "1094       1109      HP    Elitebook 820    Netbook    12.5   \n",
       "1034       1048      HP    EliteBook 850   Notebook    15.6   \n",
       "\n",
       "                     ScreenResolution                          Cpu   Ram  \\\n",
       "679                 Full HD 1920x1080  Intel Core i5 7300HQ 2.5GHz  16GB   \n",
       "946   Full HD / Touchscreen 1920x1080   Intel Core i5 7200U 2.5GHz   8GB   \n",
       "91                  Full HD 1920x1080   Intel Core i7 8550U 1.8GHz   8GB   \n",
       "1094                         1366x768   Intel Core i5 6200U 2.3GHz   4GB   \n",
       "1034                Full HD 1920x1080   Intel Core i7 6500U 2.5GHz   8GB   \n",
       "\n",
       "         Memory                         Gpu       OpSys  Weight  Price_euros  \n",
       "679   256GB SSD  Nvidia GeForce GTX 1050 Ti  Windows 10   2.5kg      1299.00  \n",
       "946   256GB SSD           Intel HD Graphics  Windows 10  1.36kg      1472.20  \n",
       "91      1TB HDD        Nvidia GeForce MX150  Windows 10   2.2kg       689.00  \n",
       "1094  128GB SSD       Intel HD Graphics 520   Windows 7   2.4kg      1599.00  \n",
       "1034  256GB SSD       Intel HD Graphics 520  Windows 10  1.84kg      1228.99  "
      ]
     },
     "execution_count": 42,
     "metadata": {},
     "output_type": "execute_result"
    }
   ],
   "source": [
    "train_data.head()"
   ]
  },
  {
   "cell_type": "code",
   "execution_count": 55,
   "id": "b83364f1",
   "metadata": {},
   "outputs": [
    {
     "data": {
      "text/plain": [
       "679      2.5kg\n",
       "946     1.36kg\n",
       "91       2.2kg\n",
       "1094     2.4kg\n",
       "1034    1.84kg\n",
       "         ...  \n",
       "1154    2.04kg\n",
       "404      2.8kg\n",
       "22      1.86kg\n",
       "359     1.36kg\n",
       "972     4.42kg\n",
       "Name: Weight, Length: 1042, dtype: object"
      ]
     },
     "execution_count": 55,
     "metadata": {},
     "output_type": "execute_result"
    }
   ],
   "source": [
    "train_data.loc[:, 'Weight']"
   ]
  },
  {
   "cell_type": "code",
   "execution_count": null,
   "id": "16c9abfd",
   "metadata": {},
   "outputs": [],
   "source": []
  }
 ],
 "metadata": {
  "kernelspec": {
   "display_name": "Python 3 (ipykernel)",
   "language": "python",
   "name": "python3"
  },
  "language_info": {
   "codemirror_mode": {
    "name": "ipython",
    "version": 3
   },
   "file_extension": ".py",
   "mimetype": "text/x-python",
   "name": "python",
   "nbconvert_exporter": "python",
   "pygments_lexer": "ipython3",
   "version": "3.9.7"
  }
 },
 "nbformat": 4,
 "nbformat_minor": 5
}
